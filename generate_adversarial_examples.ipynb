{
 "cells": [
  {
   "cell_type": "code",
   "execution_count": null,
   "metadata": {},
   "outputs": [],
   "source": [
    "import src.utilities.utils as utils \n",
    "test_data = utils.read_jsonl('data/snli_1.0/snli_1.0_test.jsonl')"
   ]
  },
  {
   "cell_type": "markdown",
   "metadata": {},
   "source": [
    "# 1. Sentences without addition"
   ]
  },
  {
   "cell_type": "code",
   "execution_count": null,
   "metadata": {},
   "outputs": [],
   "source": [
    "# hand-picked examples from test set\n",
    "entailment_same_example = [\n",
    "    ('Three people are outside.','Three people in nature.'),\n",
    "    ('Two women are observing something together.','Two girls are looking at something.'),\n",
    "    ('A biker races.','A person is riding a bike'),\n",
    "]\n"
   ]
  },
  {
   "cell_type": "code",
   "execution_count": null,
   "metadata": {},
   "outputs": [],
   "source": [
    "# find them in test_data and pick the binary sentences\n",
    "binary_entailment_same_example = []\n",
    "for j, selected_pair in enumerate(entailment_same_example):\n",
    "    for i, pair in enumerate(test_data):\n",
    "        if pair['sentence1'] == selected_pair[0]:\n",
    "            if pair['sentence2'] == selected_pair[1]:\n",
    "                #entailment_same_example_list.append(pair)\n",
    "                binary_entailment_same_example.append(\n",
    "                    (pair['sentence1_binary_parse'], pair['sentence2_binary_parse'])\n",
    "                )"
   ]
  },
  {
   "cell_type": "code",
   "execution_count": null,
   "metadata": {},
   "outputs": [],
   "source": [
    "binary_entailment_same_example"
   ]
  },
  {
   "cell_type": "markdown",
   "metadata": {},
   "source": [
    "Calling the below cell changes the sentence pair \n",
    "\n",
    "\"A biker races.\" \"A person is riding a bike\"\n",
    "\n",
    "into \n",
    "\n",
    "\"A bikers race.\" \"A person are riding a bike\"\n",
    "\n",
    "Then we can change \"A\" from both sentences to some plural number word."
   ]
  },
  {
   "cell_type": "code",
   "execution_count": null,
   "metadata": {},
   "outputs": [],
   "source": [
    "# Change the third sentence pair so that the sentence would be expecting plural nouns\n",
    "third_sentence_pair_plural = (\n",
    "    utils.return_sent_words_replaced_case_sensitive(\n",
    "        utils.return_sent_words_replaced_case_sensitive(\n",
    "            binary_entailment_same_example[2][0],\n",
    "            'races',\n",
    "            'race'\n",
    "        ), \n",
    "        'biker', \n",
    "        'bikers'\n",
    "    ), \n",
    "    utils.return_sent_words_replaced_case_sensitive(\n",
    "        utils.return_sent_words_replaced_case_sensitive(\n",
    "            binary_entailment_same_example[2][1],\n",
    "            'is',\n",
    "            'are'\n",
    "        ), \n",
    "        'person', \n",
    "        'people'\n",
    "    )\n",
    ")"
   ]
  },
  {
   "cell_type": "code",
   "execution_count": null,
   "metadata": {},
   "outputs": [],
   "source": [
    "third_sentence_pair_plural"
   ]
  },
  {
   "cell_type": "code",
   "execution_count": null,
   "metadata": {},
   "outputs": [],
   "source": [
    "entailment_same_to_same_example = []\n",
    "\n",
    "entailment_same_to_same_example.extend( \n",
    "    utils.same_to_same_plural_number(\n",
    "        binary_entailment_same_example[0], \n",
    "        'Three'\n",
    "    )\n",
    ")\n",
    "\n",
    "entailment_same_to_same_example.extend( \n",
    "    utils.same_to_same_plural_number(\n",
    "        binary_entailment_same_example[1], \n",
    "        'Two'\n",
    "    )\n",
    ")\n",
    "\n",
    "entailment_same_to_same_example.extend( \n",
    "    utils.same_to_same_plural_number(\n",
    "        third_sentence_pair_plural, \n",
    "        'A'\n",
    "    )\n",
    ")"
   ]
  },
  {
   "cell_type": "code",
   "execution_count": null,
   "metadata": {},
   "outputs": [],
   "source": [
    "# Display the results\n",
    "for pair in entailment_same_to_same_example:\n",
    "    print(utils.remove_parenthesis(pair))"
   ]
  },
  {
   "cell_type": "code",
   "execution_count": null,
   "metadata": {},
   "outputs": [],
   "source": [
    "# bigger number in hypothesis. The relationship changes from \"entailment\" to either \"neutral\" or \"contradiction\". \n",
    "\n",
    "# TODO: do some exploration yourself and try to think of how to handle special cases. \n",
    "#       What do you do when there are uncertain quantifiers (e.g.some)?\n",
    "#       What do you do when you see \"at least\"?\n",
    "\n",
    "entailment_same_to_more_in_hypothesis_example = []\n",
    "\n",
    "entailment_same_to_more_in_hypothesis_example.extend(\n",
    "    utils.same_to_different_plural_number(\n",
    "        binary_entailment_same_example[0], \n",
    "        'Three',\n",
    "        more_in_premise = False\n",
    "    )\n",
    ")\n",
    "entailment_same_to_more_in_hypothesis_example.extend(\n",
    "    utils.same_to_different_plural_number(\n",
    "        binary_entailment_same_example[1], \n",
    "        'Two',\n",
    "        more_in_premise = False\n",
    "    )\n",
    ")\n",
    "entailment_same_to_more_in_hypothesis_example.extend(\n",
    "    utils.same_to_different_plural_number(\n",
    "        third_sentence_pair_plural, \n",
    "        'A',\n",
    "        more_in_premise = False\n",
    "    )\n",
    ")"
   ]
  },
  {
   "cell_type": "code",
   "execution_count": null,
   "metadata": {},
   "outputs": [],
   "source": [
    "# Display the results\n",
    "for pair in entailment_same_to_more_in_hypothesis_example:\n",
    "    print(utils.remove_parenthesis(pair))"
   ]
  },
  {
   "cell_type": "code",
   "execution_count": null,
   "metadata": {},
   "outputs": [],
   "source": [
    "# bigger number in premise\n",
    "\n",
    "entailment_same_to_more_in_premise_example = []\n",
    "\n",
    "entailment_same_to_more_in_premise_example.extend(\n",
    "    utils.same_to_different_plural_number(\n",
    "        binary_entailment_same_example[0], \n",
    "        'Three',\n",
    "        more_in_premise = True\n",
    "    )\n",
    ")\n",
    "\n",
    "entailment_same_to_more_in_premise_example.extend(\n",
    "    utils.same_to_different_plural_number(\n",
    "        binary_entailment_same_example[1], \n",
    "        'Two',\n",
    "        more_in_premise = True\n",
    "    )\n",
    ")\n",
    "entailment_same_to_more_in_premise_example.extend(\n",
    "    utils.same_to_different_plural_number(\n",
    "        third_sentence_pair_plural, \n",
    "        'A',\n",
    "        more_in_premise = True\n",
    "    )\n",
    ")"
   ]
  },
  {
   "cell_type": "code",
   "execution_count": null,
   "metadata": {},
   "outputs": [],
   "source": [
    "# Display the results\n",
    "for pair in entailment_same_to_more_in_premise_example:\n",
    "    print(utils.remove_parenthesis(pair))"
   ]
  },
  {
   "cell_type": "markdown",
   "metadata": {},
   "source": [
    "# 2. Sentences with addition"
   ]
  },
  {
   "cell_type": "code",
   "execution_count": null,
   "metadata": {},
   "outputs": [],
   "source": [
    "entailment_addition_example = [\n",
    "    ('One child in black is walking down a hill covered in white snow while 2 children are on their knees.','There are three children in this picture, and they are all outside.'),\n",
    "    ('A man holds two children in his arms.','Three humans together.'),\n",
    "    ('Three males and one female are posing for a photograph with snow on the ground and mountains covered with green trees and snow in the background.','Four people pose for an outdoor photo.'),\n",
    "    ('2 women and 2 girls crossing the road','There are 4 female humans who are moving.'),\n",
    "]"
   ]
  },
  {
   "cell_type": "code",
   "execution_count": null,
   "metadata": {},
   "outputs": [],
   "source": [
    "binary_entailment_addition_example = []\n",
    "for j, selected_pair in enumerate(entailment_addition_example):\n",
    "    for i, pair in enumerate(test_data):\n",
    "        if pair['sentence1'] == selected_pair[0]:\n",
    "            if pair['sentence2'] == selected_pair[1]:\n",
    "                binary_entailment_addition_example.append(\n",
    "                    (pair['sentence1_binary_parse'], pair['sentence2_binary_parse'])\n",
    "                )"
   ]
  },
  {
   "cell_type": "code",
   "execution_count": null,
   "metadata": {},
   "outputs": [],
   "source": [
    "binary_entailment_addition_example"
   ]
  },
  {
   "cell_type": "code",
   "execution_count": null,
   "metadata": {},
   "outputs": [],
   "source": [
    "# We tell the algorithm one word form each sentence to replace.\n",
    "# Input is case-sensitive\n",
    "# bias tells the algorithm the relationship between the original word pairs.\n",
    "# The algorithm will use pairs with matching numbers w.r.t. bias\n",
    "# e.g. if bias is 1, it will generate pairs like (2, 3) and (5, 6)\n",
    "#      if bias is 0, (2, 2), (5, 5)\n",
    "#      if bias is -1, (2, 1), (5, 4)\n",
    "\n",
    "entailment_addition_same_example = []\n",
    "\n",
    "entailment_addition_same_example.extend( \n",
    "    utils.same_to_same_plural_number_with_addition(\n",
    "        binary_entailment_addition_example[0], \n",
    "        ('2', 'three'),\n",
    "        bias=1,\n",
    "        more_in_premise=False\n",
    "    )\n",
    ")\n",
    "\n",
    "entailment_addition_same_example.extend( \n",
    "    utils.same_to_same_plural_number_with_addition(\n",
    "        binary_entailment_addition_example[1], \n",
    "        ('two', 'Three'),\n",
    "        bias=1,\n",
    "        more_in_premise=False\n",
    "    )\n",
    ")\n",
    "\n",
    "entailment_addition_same_example.extend( \n",
    "    utils.same_to_same_plural_number_with_addition(\n",
    "        binary_entailment_addition_example[2], \n",
    "        ('Three', 'Four'),\n",
    "        bias=1,\n",
    "        more_in_premise=False\n",
    "    )\n",
    ")\n",
    "\n",
    "entailment_addition_same_example.extend( \n",
    "    utils.same_to_same_plural_number_with_addition(\n",
    "        binary_entailment_addition_example[3], \n",
    "        ('2', '4'),\n",
    "        bias=2,\n",
    "        more_in_premise=False\n",
    "    )\n",
    ")\n"
   ]
  },
  {
   "cell_type": "code",
   "execution_count": null,
   "metadata": {},
   "outputs": [],
   "source": [
    "# Display the results\n",
    "for pair in entailment_addition_same_example:\n",
    "    print(utils.remove_parenthesis(pair))"
   ]
  },
  {
   "cell_type": "code",
   "execution_count": null,
   "metadata": {},
   "outputs": [],
   "source": [
    "# We tell the algorithm one word form each sentence to replace.\n",
    "# Input is case-sensitive\n",
    "# bias tells the algorithm the relationship between the original word pairs.\n",
    "# The algorithm will use pairs where the second number is strictly greater than first number w.r.t. bias\n",
    "# e.g. if bias is 1, it will generate pairs with difference greater than 1: (2, 4), (2, 5), (2, 6), ... .\n",
    "#      if bias is 0, (2, 3), (2, 4), ...\n",
    "#      if bias is -1, (2, 2), (2, 3), ... \n",
    "\n",
    "\n",
    "# TODO: You could write algorithm to modify all quantifiers in sentence pairs simultaneously, rather than one word from each sentence.\n",
    "\n",
    "\n",
    "entailment_addition_more_in_hypothesis_example = []\n",
    "\n",
    "entailment_addition_more_in_hypothesis_example.extend( \n",
    "    utils.same_to_different_plural_number_with_addition(\n",
    "        binary_entailment_addition_example[0], \n",
    "        ('2', 'three'),\n",
    "        bias=1,\n",
    "        more_in_premise=False\n",
    "    )\n",
    ")\n",
    "\n",
    "entailment_addition_more_in_hypothesis_example.extend( \n",
    "    utils.same_to_different_plural_number_with_addition(\n",
    "        binary_entailment_addition_example[1], \n",
    "        ('two', 'Three'),\n",
    "        bias=1,\n",
    "        more_in_premise=False\n",
    "    )\n",
    ")\n",
    "\n",
    "entailment_addition_more_in_hypothesis_example.extend( \n",
    "    utils.same_to_different_plural_number_with_addition(\n",
    "        binary_entailment_addition_example[2], \n",
    "        ('Three', 'Four'),\n",
    "        bias=1,\n",
    "        more_in_premise=False\n",
    "    )\n",
    ")\n",
    "\n",
    "entailment_addition_more_in_hypothesis_example.extend( \n",
    "    utils.same_to_different_plural_number_with_addition(\n",
    "        binary_entailment_addition_example[3], \n",
    "        ('2', '4'),\n",
    "        bias=2,\n",
    "        more_in_premise=False\n",
    "    )\n",
    ")"
   ]
  },
  {
   "cell_type": "code",
   "execution_count": null,
   "metadata": {},
   "outputs": [],
   "source": [
    "# Display the results\n",
    "for pair in entailment_addition_more_in_hypothesis_example:\n",
    "    print(utils.remove_parenthesis(pair))"
   ]
  },
  {
   "cell_type": "code",
   "execution_count": null,
   "metadata": {},
   "outputs": [],
   "source": [
    "# We tell the algorithm one word form each sentence to replace.\n",
    "# Input is case-sensitive\n",
    "# bias tells the algorithm the relationship between the original word pairs.\n",
    "# The algorithm will use pairs where the first number is strictly greater than second number w.r.t. bias\n",
    "# e.g. if bias is 1, it will generate pairs with difference greater than 1: (3, 1), (4, 2), (4, 1) ... .\n",
    "#      if bias is 0, (3, 2), (3, 1), ...\n",
    "#      if bias is -1, (3, 4), (3, 3), (3, 2) ... \n",
    "\n",
    "entailment_addition_more_in_premise_example = []\n",
    "\n",
    "entailment_addition_more_in_premise_example.extend( \n",
    "    utils.same_to_different_plural_number_with_addition(\n",
    "        binary_entailment_addition_example[0], \n",
    "        ('2', 'three'),\n",
    "        bias=-1,\n",
    "        more_in_premise=True\n",
    "    )\n",
    ")\n",
    "\n",
    "entailment_addition_more_in_premise_example.extend( \n",
    "    utils.same_to_different_plural_number_with_addition(\n",
    "        binary_entailment_addition_example[1], \n",
    "        ('two', 'Three'),\n",
    "        bias=-1,\n",
    "        more_in_premise=True\n",
    "    )\n",
    ")\n",
    "\n",
    "entailment_addition_more_in_premise_example.extend( \n",
    "    utils.same_to_different_plural_number_with_addition(\n",
    "        binary_entailment_addition_example[2], \n",
    "        ('Three', 'Four'),\n",
    "        bias=-1,\n",
    "        more_in_premise=True\n",
    "    )\n",
    ")\n",
    "\n",
    "entailment_addition_more_in_premise_example.extend( \n",
    "    utils.same_to_different_plural_number_with_addition(\n",
    "        binary_entailment_addition_example[3], \n",
    "        ('2', '4'),\n",
    "        bias=-2,\n",
    "        more_in_premise=True\n",
    "    )\n",
    ")"
   ]
  },
  {
   "cell_type": "code",
   "execution_count": null,
   "metadata": {},
   "outputs": [],
   "source": [
    "# Display the results\n",
    "for pair in entailment_addition_more_in_premise_example:\n",
    "    print(utils.remove_parenthesis(pair))"
   ]
  },
  {
   "cell_type": "code",
   "execution_count": null,
   "metadata": {},
   "outputs": [],
   "source": [
    "utils.save_examples_for_ESIM(\n",
    "    'esim_test_same_only.txt',\n",
    "    [\n",
    "        (entailment_same_to_same_example, \"entailment\"),\n",
    "        (entailment_addition_same_example, \"entailment\")\n",
    "    ]\n",
    ")\n",
    "\n",
    "utils.save_examples_for_InferSent(\n",
    "    'infersent_test_same_only.txt',\n",
    "    [\n",
    "        (entailment_same_to_same_example, \"entailment\"),\n",
    "        (entailment_addition_same_example, \"entailment\")\n",
    "    ]\n",
    ")"
   ]
  },
  {
   "cell_type": "code",
   "execution_count": null,
   "metadata": {},
   "outputs": [],
   "source": [
    "utils.save_examples_for_InferSent(\n",
    "    'infersent_test_addition_more_in_premise.txt',\n",
    "    [\n",
    "        (entailment_addition_more_in_premise_example, \"entailment\")\n",
    "    ]\n",
    ")"
   ]
  },
  {
   "cell_type": "code",
   "execution_count": null,
   "metadata": {},
   "outputs": [],
   "source": [
    "utils.save_examples_for_ESIM(\n",
    "    'esim_test_addition_unmodified.txt',\n",
    "    [\n",
    "        (binary_entailment_addition_example, \"entailment\")\n",
    "    ]\n",
    ")"
   ]
  },
  {
   "cell_type": "code",
   "execution_count": null,
   "metadata": {},
   "outputs": [],
   "source": [
    "utils.save_examples_for_ESIM(\n",
    "    'ESIM_test_addition_more_in_premise.txt',\n",
    "    [\n",
    "        (entailment_addition_more_in_premise_example, \"entailment\")\n",
    "    ]\n",
    ")"
   ]
  },
  {
   "cell_type": "code",
   "execution_count": null,
   "metadata": {},
   "outputs": [],
   "source": [
    "utils.save_examples_for_BERT(\n",
    "    'BERT_test_addition_more_in_premise.txt',\n",
    "    [\n",
    "        (entailment_addition_more_in_premise_example, \"entailment\")\n",
    "    ]\n",
    ")"
   ]
  },
  {
   "cell_type": "code",
   "execution_count": null,
   "metadata": {},
   "outputs": [],
   "source": [
    "utils.save_examples_for_BERT(\n",
    "    'BERT_test_addition_unmodified.txt',\n",
    "    [\n",
    "        (binary_entailment_addition_example, \"entailment\")\n",
    "    ]\n",
    ")"
   ]
  },
  {
   "cell_type": "code",
   "execution_count": null,
   "metadata": {},
   "outputs": [],
   "source": []
  }
 ],
 "metadata": {
  "kernelspec": {
   "display_name": "Python 3",
   "language": "python",
   "name": "python3"
  },
  "language_info": {
   "codemirror_mode": {
    "name": "ipython",
    "version": 3
   },
   "file_extension": ".py",
   "mimetype": "text/x-python",
   "name": "python",
   "nbconvert_exporter": "python",
   "pygments_lexer": "ipython3",
   "version": "3.7.1"
  }
 },
 "nbformat": 4,
 "nbformat_minor": 2
}
