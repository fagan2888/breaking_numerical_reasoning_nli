{
 "cells": [
  {
   "cell_type": "markdown",
   "metadata": {},
   "source": [
    "1. Instead of only extracting numerical words from sentences, the function \"nummod_in_sentence\" extracts nummod dependencies pair. For example, the result of \"He has three girl friends.\" is \"[[three, friends]]\", and the result of \"Three ugly men walked.\" is \"[[three, men]]\".\n",
    "\n",
    "2. (To do) Addition examples may have the following features: a. numerical words modify the same object in both sentences, b. numerical word in hypothesis is larger than those in premise. \n",
    "\n",
    "3. Some examples are at the bottom."
   ]
  },
  {
   "cell_type": "code",
   "execution_count": 108,
   "metadata": {
    "collapsed": true
   },
   "outputs": [],
   "source": [
    "import src.utilities.utils as utils \n",
    "test_data = utils.read_jsonl('data/snli_1.0/snli_1.0_test.jsonl')"
   ]
  },
  {
   "cell_type": "code",
   "execution_count": 97,
   "metadata": {},
   "outputs": [],
   "source": [
    "# nums = ['2','3','4','5','6','7','8','9','10']\n",
    "# special_numericals = ['some', 'many', 'all'] # TODO\n",
    "# number_words = utils.plural_words_for_numbers + nums\n",
    "\n",
    "convert_dict_plural = {\n",
    "    'one':1,\n",
    "    'two':2,\n",
    "    'three':3,\n",
    "    'four':4,\n",
    "    'five':5,\n",
    "    'six':6,\n",
    "    'seven':7,\n",
    "    'eight':8,\n",
    "    'nine':9,\n",
    "    'ten':10,\n",
    "    '1':1,\n",
    "    '2':2,\n",
    "    '3':3,\n",
    "    '4':4,\n",
    "    '5':5,\n",
    "    '6':6,\n",
    "    '7':7,\n",
    "    '8':8,\n",
    "    '9':9,\n",
    "    '10':10\n",
    "}\n",
    "\n",
    "import spacy\n",
    "nlp = spacy.load('en')\n",
    "\n",
    "def nummod_in_sentence(sentence):\n",
    "    doc = nlp(sentence.lower())\n",
    "    return [[token.text, token.head.text] for token in doc \n",
    "            if token.text in convert_dict_plural and token.dep_=='nummod']\n",
    "\n",
    "def check_hyponym(hypo_word, word_h):\n",
    "    #print(hypo_word, word)\n",
    "    word0 = wn.synsets(hypo_word)\n",
    "    word = wn.synsets(word_h)\n",
    "    if len(word0)>= 1 and len(word)>=1:\n",
    "        word0 = word0[0]\n",
    "        word = word[0]\n",
    "        hypowords = set([i for i in word.closure(lambda s:s.hyponyms())])\n",
    "        return word0 in hypowords\n",
    "    else:\n",
    "        print(\"{} or {} is not found in wordnet\".format(hypo_word, word_h))\n",
    "        return False\n",
    "\n",
    "def check_same_word(sent1_word, sent2_word):\n",
    "    return sent1_word == went2_word\n",
    "\n",
    "def check_potential_addition(sent1_num_words, sent2_num_words):\n",
    "    # To do: len(sent2_num_words)>1\n",
    "    if len(sent2_num_words)==1 and len(sent1_num_words)>len(sent2_num_words):\n",
    "        for word_list in sent1_num_words:\n",
    "            if word_list[1]!= sent1_num_words[0][1] and check_hyponym(word_list[1], sent2_num_words[0][1]) == False:\n",
    "                return False\n",
    "        return True\n",
    "    return False\n",
    "\n",
    "def subset_with_numericals(dataset):\n",
    "    result = []\n",
    "    for data in dataset:\n",
    "        sent1_num_words = numerical_word_in_sentence(data['sentence1'])\n",
    "        sent2_num_words = numerical_word_in_sentence(data['sentence2'])\n",
    "\n",
    "        if sent1_num_words or sent2_num_words:\n",
    "            result.append(data)\n",
    "    return result\n",
    "\n",
    "def subset_with_potential_addition(dataset):\n",
    "    result = []\n",
    "    for data in dataset:\n",
    "        sent1_num_words = nummod_in_sentence(data['sentence1'])\n",
    "        sent2_num_words = nummod_in_sentence(data['sentence2'])\n",
    "        \n",
    "        if check_potential_addition(sent1_num_words, sent2_num_words): # TODO: When len(list) > 1\n",
    "            print((sent1_num_words, sent2_num_words))\n",
    "#             print(data['gold_label'])\n",
    "            print(data['sentence1'])\n",
    "            print(data['sentence2'])\n",
    "#             print()\n",
    "            result.append(data)\n",
    "    return result\n",
    "\n",
    "def subset_by_relationship_type(dataset, relation):\n",
    "    result = []\n",
    "    return [data for data in dataset if data['gold_label'] == relation]"
   ]
  },
  {
   "cell_type": "code",
   "execution_count": 98,
   "metadata": {},
   "outputs": [],
   "source": [
    "test_data_entailment = subset_by_relationship_type(test_data, 'entailment')"
   ]
  },
  {
   "cell_type": "code",
   "execution_count": 99,
   "metadata": {},
   "outputs": [
    {
     "data": {
      "text/plain": [
       "3368"
      ]
     },
     "execution_count": 99,
     "metadata": {},
     "output_type": "execute_result"
    }
   ],
   "source": [
    "len(test_data_entailment)"
   ]
  },
  {
   "cell_type": "code",
   "execution_count": 100,
   "metadata": {},
   "outputs": [
    {
     "name": "stdout",
     "output_type": "stream",
     "text": [
      "others or men is not found in wordnet\n",
      "([['three', 'men'], ['two', 'men']], [['three', 'men']])\n",
      "A skier being helped onto a red stretcher by three men, while two other men and a woman prepare to help.\n",
      "Three men help a skier\n"
     ]
    }
   ],
   "source": [
    "test_entailment_numericals = subset_with_potential_addition(test_data_entailment)"
   ]
  },
  {
   "cell_type": "code",
   "execution_count": 101,
   "metadata": {},
   "outputs": [
    {
     "name": "stdout",
     "output_type": "stream",
     "text": [
      "0 A skier det\n",
      "1 skier helped nsubjpass\n",
      "2 being helped auxpass\n",
      "3 helped helped ROOT\n",
      "4 onto helped prep\n",
      "5 a stretcher det\n",
      "6 red stretcher amod\n",
      "7 stretcher onto pobj\n",
      "8 by helped agent\n",
      "9 three men nummod\n",
      "10 men by pobj\n",
      "11 , helped punct\n",
      "12 while prepare mark\n",
      "13 two men nummod\n",
      "14 other men amod\n",
      "15 men prepare nsubj\n",
      "16 and men cc\n",
      "17 a woman det\n",
      "18 woman men conj\n",
      "19 prepare helped advcl\n",
      "20 to help aux\n",
      "21 help prepare xcomp\n",
      "22 . helped punct\n"
     ]
    }
   ],
   "source": [
    "a = \"A skier being helped onto a red stretcher by three men, while two other men and a woman prepare to help.\"\n",
    "doc = nlp(a)\n",
    "for i, token in enumerate(doc):\n",
    "    print(i, token.text, token.head.text, token.dep_)"
   ]
  }
 ],
 "metadata": {
  "kernelspec": {
   "display_name": "Python 3",
   "language": "python",
   "name": "python3"
  },
  "language_info": {
   "codemirror_mode": {
    "name": "ipython",
    "version": 3
   },
   "file_extension": ".py",
   "mimetype": "text/x-python",
   "name": "python",
   "nbconvert_exporter": "python",
   "pygments_lexer": "ipython3",
   "version": "3.6.3"
  }
 },
 "nbformat": 4,
 "nbformat_minor": 2
}
