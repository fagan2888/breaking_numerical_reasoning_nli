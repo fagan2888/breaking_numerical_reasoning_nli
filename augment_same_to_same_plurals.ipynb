{
 "cells": [
  {
   "cell_type": "code",
   "execution_count": 1,
   "metadata": {},
   "outputs": [],
   "source": [
    "import src.utilities.utils as utils \n",
    "test_data = utils.read_jsonl('data/snli_1.0/snli_1.0_test.jsonl')\n",
    "train_data = utils.read_jsonl('data/snli_1.0/snli_1.0_train.jsonl')\n",
    "dev_data = utils.read_jsonl('data/snli_1.0/snli_1.0_dev.jsonl')"
   ]
  },
  {
   "cell_type": "code",
   "execution_count": 2,
   "metadata": {},
   "outputs": [],
   "source": [
    "# nums = ['2','3','4','5','6','7','8','9','10']\n",
    "# special_numericals = ['some', 'many', 'all'] # TODO\n",
    "# number_words = utils.plural_words_for_numbers + nums\n",
    "\n",
    "convert_dict_plural = {\n",
    "    'two':2,\n",
    "    'three':3,\n",
    "    'four':4,\n",
    "    'five':5,\n",
    "    'six':6,\n",
    "    'seven':7,\n",
    "    'eight':8,\n",
    "    'nine':9,\n",
    "    'ten':10,\n",
    "    '2':2,\n",
    "    '3':3,\n",
    "    '4':4,\n",
    "    '5':5,\n",
    "    '6':6,\n",
    "    '7':7,\n",
    "    '8':8,\n",
    "    '9':9,\n",
    "    '10':10\n",
    "}\n",
    "\n",
    "def numerical_word_in_sentence(sentence):\n",
    "    return [x for x in sentence.split() if x in convert_dict_plural]\n",
    "\n",
    "def subset_with_numericals(dataset):\n",
    "    result = []\n",
    "    for data in dataset:\n",
    "        sent1_num_words = numerical_word_in_sentence(data['sentence1'])\n",
    "        sent2_num_words = numerical_word_in_sentence(data['sentence2'])\n",
    "\n",
    "        if sent1_num_words or sent2_num_words:\n",
    "#             print((sent1_num_words, sent2_num_words))\n",
    "#             print(data['gold_label'])\n",
    "#             print(data['sentence1'])\n",
    "#             print(data['sentence2'])\n",
    "#             print()\n",
    "            result.append(data)\n",
    "    return result\n",
    "\n",
    "def subset_with_same_numericals(dataset):\n",
    "    result = []\n",
    "    for data in dataset:\n",
    "        sent1_num_words = numerical_word_in_sentence(data['sentence1'])\n",
    "        sent2_num_words = numerical_word_in_sentence(data['sentence2'])\n",
    "\n",
    "        if sent1_num_words == sent2_num_words and len(sent1_num_words) == 1: # TODO: When len(list) > 1\n",
    "#             print((sent1_num_words, sent2_num_words))\n",
    "#             print(data['gold_label'])\n",
    "#             print(data['sentence1'])\n",
    "#             print(data['sentence2'])\n",
    "#             print()\n",
    "            result.append(data)\n",
    "    return result"
   ]
  },
  {
   "cell_type": "code",
   "execution_count": 3,
   "metadata": {},
   "outputs": [],
   "source": [
    "def subset_by_relationship_type(dataset, relation):\n",
    "    result = []\n",
    "    return [data for data in dataset if data['gold_label'] == relation]"
   ]
  },
  {
   "cell_type": "code",
   "execution_count": 4,
   "metadata": {},
   "outputs": [],
   "source": [
    "test_data_entailment = subset_by_relationship_type(test_data, 'entailment')\n",
    "train_data_entailment = subset_by_relationship_type(train_data, 'entailment')\n",
    "dev_data_entailment = subset_by_relationship_type(dev_data, 'entailment')\n",
    "# test_data_contradiction = subset_by_relationship_type(test_data, 'contradiction')\n",
    "# test_data_neutral = subset_by_relationship_type(test_data, 'neutral')"
   ]
  },
  {
   "cell_type": "code",
   "execution_count": 5,
   "metadata": {},
   "outputs": [
    {
     "data": {
      "text/plain": [
       "3368"
      ]
     },
     "execution_count": 5,
     "metadata": {},
     "output_type": "execute_result"
    }
   ],
   "source": [
    "len(test_data_entailment)"
   ]
  },
  {
   "cell_type": "code",
   "execution_count": 6,
   "metadata": {},
   "outputs": [
    {
     "data": {
      "text/plain": [
       "183416"
      ]
     },
     "execution_count": 6,
     "metadata": {},
     "output_type": "execute_result"
    }
   ],
   "source": [
    "len(train_data_entailment)"
   ]
  },
  {
   "cell_type": "code",
   "execution_count": 7,
   "metadata": {},
   "outputs": [
    {
     "data": {
      "text/plain": [
       "3329"
      ]
     },
     "execution_count": 7,
     "metadata": {},
     "output_type": "execute_result"
    }
   ],
   "source": [
    "len(dev_data_entailment)"
   ]
  },
  {
   "cell_type": "code",
   "execution_count": 8,
   "metadata": {},
   "outputs": [],
   "source": [
    "# Entailment pairs that include numerical words in either one of the sentences\n",
    "test_entailment_with_numericals = subset_with_numericals(test_data_entailment)\n",
    "train_entailment_with_numericals = subset_with_numericals(train_data_entailment)\n",
    "dev_entailment_with_numericals = subset_with_numericals(dev_data_entailment)"
   ]
  },
  {
   "cell_type": "code",
   "execution_count": 9,
   "metadata": {},
   "outputs": [],
   "source": [
    "# test_entailment_with_numericals"
   ]
  },
  {
   "cell_type": "code",
   "execution_count": 10,
   "metadata": {},
   "outputs": [],
   "source": [
    "# Entailment pairs that include equal numerical words\n",
    "test_entailment_with_same_numericals = subset_with_same_numericals(test_entailment_with_numericals)\n",
    "train_entailment_with_same_numericals = subset_with_same_numericals(train_entailment_with_numericals)\n",
    "dev_entailment_with_same_numericals = subset_with_same_numericals(dev_entailment_with_numericals)"
   ]
  },
  {
   "cell_type": "code",
   "execution_count": 21,
   "metadata": {},
   "outputs": [],
   "source": [
    "# test_entailment_with_same_numericals"
   ]
  },
  {
   "cell_type": "code",
   "execution_count": 12,
   "metadata": {},
   "outputs": [],
   "source": [
    "def get_binary_pairs(list_of_dic):\n",
    "    res = []\n",
    "    for each in list_of_dic:\n",
    "        res.append(\n",
    "            (each['sentence1_binary_parse'], each['sentence2_binary_parse'])\n",
    "        )\n",
    "    return res"
   ]
  },
  {
   "cell_type": "code",
   "execution_count": 13,
   "metadata": {},
   "outputs": [
    {
     "data": {
      "text/plain": [
       "[('( ( ( A man ) ( ( standing ( in ( front ( of ( ( a building ) ( on ( ( the phone ) ( as ( two men ) ) ) ) ) ) ) ) ) ( to ( ( the ( side pain ) ) ( on ( the side ) ) ) ) ) ) . )',\n",
       "  '( ( ( a guy ) ( near ( a building ) ) ) ( stands ( by ( two ( other men ) ) ) ) )'),\n",
       " ('( ( ( ( A crowd ) ( of people ) ) ( ( looking up ) ( at ( ( 3 people ) ( on ( ( the edge ) ( of ( ( the roof ) ( of ( a building ) ) ) ) ) ) ) ) ) ) . )',\n",
       "  \"( ( ( The crowd ) ( on ( the ground ) ) ) ( ( is ( watching ( ( 3 people ) ( on ( ( the ( roof 's ) ) edge ) ) ) ) ) . ) )\"),\n",
       " ('( ( ( Six or ) ( seven people ) ) ( ( are ( standing ( on ( ( ( ( a pier ) ( with ( a table ) ) ) and ) ( ( a pair ) ( of ( glasses ( in ( the foreground ) ) ) ) ) ) ) ) ) . ) )',\n",
       "  '( ( ( Six or ) ( seven people ) ) ( ( are ( standing ( on ( a pier ) ) ) ) . ) )'),\n",
       " ('( ( A boy ) ( ( is ( ( riding down ) ( ( the road ) ( between ( two cows ) ) ) ) ) . ) )',\n",
       "  '( ( ( ( A boy ) , ) ( ( ( a road ) and ) ( two cows ) ) ) . )'),\n",
       " ('( ( The ( two boys ) ) ( ( are ( swimming ( with ( boogie boards ) ) ) ) . ) )',\n",
       "  '( ( The ( two boys ) ) ( are ( swimming ( with ( their floats ) ) ) ) )'),\n",
       " ('( ( A person ) ( ( ( is ( on ( a ( four wheeler ) ) ) ) ( ( kicking up ) ( ( a lot ) ( of ( dirt ( in ( a dune ) ) ) ) ) ) ) . ) )',\n",
       "  '( ( The person ) ( ( is ( riding ( a ( four wheeler ) ) ) ) . ) )'),\n",
       " ('( ( A man ) ( ( is ( ( standing ( on ( his ( tip toes ) ) ) ) ( in ( front ( of ( ( two people ) ( sitting ( in ( the car ) ) ) ) ) ) ) ) ) . ) )',\n",
       "  '( ( A man ) ( ( ( stands ( on ( his ( tip toes ) ) ) ) ( in ( front ( of ( two people ) ) ) ) ) . ) )'),\n",
       " ('( ( ( A ( basketball player ) ) ( in ( white ( in red ) ) ) ) ( ( ( ( goes ( up ( for ( ( the shot ) ( as ( ( two ( defensive men ) ) ( in ( red jump ) ) ) ) ) ) ) ) up ) ( to ( block ( the shot ) ) ) ) . ) )',\n",
       "  '( ( A ( basketball player ) ) ( ( is ( trying ( to ( ( make ( a shot ) ) ( while ( ( two players ) ( try ( to ( block it ) ) ) ) ) ) ) ) ) . ) )'),\n",
       " ('( ( ( A ( brown-haired woman ) ) ( in ( ( a ( blue shirt ) ) ( decorated ( with ( gold trimmings ) ) ) ) ) ) ( ( paints ( ( a picture ) ( of ( two windows ) ) ) ) . ) )',\n",
       "  '( ( ( A ( brunette lady ) ) ( wearing ( a ( blue shirts ) ) ) ) ( ( is ( painting ( ( the ( two windows ) ) ( she sees ) ) ) ) . ) )'),\n",
       " ('( ( ( a child ) ( ( playing ( with ( ( two brooms ) ( in ( front ( of ( a ( pine tree ) ) ) ) ) ) ) ) ( with ( lights ( on it ) ) ) ) ) . )',\n",
       "  '( ( a child ) ( plays ( with ( ( two brooms ) outside ) ) ) )'),\n",
       " ('( ( ( ( ( ( ( two men ) ( are ( seen talking ) ) ) , ) ( ( one man ) ( wears pink ) ) ) and ) ( another ( is ( sporting ( ( a t-shirt ) ( for ( summer ( school ( 60th anniversary ) ) ) ) ) ) ) ) ) . )',\n",
       "  '( ( The ( two men ) ) ( ( are talking ) . ) )'),\n",
       " ('( ( ( ( ( Two women ) , ) ( standing ( at ( a fence ) ) ) ) , ) ( ( ( are each ) ( ( ( talking ( on ( their cellphones ) ) ) , ) ( while ( ( ( two men ) ( sitting ( on ( ( the ( opposite side ) ) ( of ( the fence ) ) ) ) ) ) ( are ( having ( a conversation ) ) ) ) ) ) ) . ) )',\n",
       "  '( ( ( ( Two men ) and ) ( two women ) ) ( ( ( are outside ) ( having conversations ) ) . ) )'),\n",
       " ('( ( ( A man ) ( wearing ( red sunglasses ) ) ) ( ( is ( carrying ( two cameras ) ) ) . ) )',\n",
       "  '( ( The man ) ( ( has ( two cameras ) ) . ) )'),\n",
       " ('( ( ( ( 3 people ) ( on ( plain boats ) ) ) ( smiling ( towards ( the camera ) ) ) ) . )',\n",
       "  '( ( 3 ( smiling people ) ) ( on ( a boat ) ) )'),\n",
       " ('( ( ( ( 3 people ) ( on ( plain boats ) ) ) ( smiling ( towards ( the camera ) ) ) ) . )',\n",
       "  '( ( ( 3 ( boating people ) ) ( being video ) ) ( taped . ) )'),\n",
       " ('( ( A person ) ( ( stands ( between ( ( two ( giant statues ) ) ( that ( look ( like faces ) ) ) ) ) ) . ) )',\n",
       "  '( ( A human ) ( ( is ( standing ( between ( two ( large objects ) ) ) ) ) . ) )'),\n",
       " ('( ( two ( white dogs ) ) ( fighting ( with ( each other ) ) ) )',\n",
       "  '( ( The ( two dogs ) ) ( ( are ( having ( a brawl ) ) ) . ) )'),\n",
       " ('( ( ( 2 people ) ( with backpacks ) ) ( ( ( are ( ( ( at ( a table ) ) ( with ( a woman ) ) ) ( with ( a ( beige blazer ) ) ) ) ) ( sitting ( behind it ) ) ) . ) )',\n",
       "  '( ( 2 people ) ( are ( at ( a table ) ) ) )'),\n",
       " ('( ( A ( man playing ) ) ( ( fetch ( with ( two ( brown dogs ) ) ) ) . ) )',\n",
       "  '( ( A man ) ( ( has ( ( two dogs ) playing ) ) . ) )'),\n",
       " ('( You ( can ( see ( ( the ( bottom halves ) ) ( of ( ( three boys ) ( ( standing ( on ( a sidewalk ) ) ) ( with ( ( silly string ) ( sprayed everywhere ) ) ) ) ) ) ) ) ) )',\n",
       "  '( There ( ( are ( ( three boys ) standing ) ) . ) )'),\n",
       " ('( ( ( ( ( A man ) and ) ( two kids ) ) ( standing ( in ( front ( of ( an ( ancient building ) ) ) ) ) ) ) . )',\n",
       "  '( ( A man ) ( ( is ( standing ( with ( two kids ) ) ) ) . ) )'),\n",
       " ('( ( ( ( A man ) ( with ( two ( small boys ) ) ) ) ( ( making ( a purchase ) ) ( from ( a woman ) ) ) ) . )',\n",
       "  '( ( The man ) ( ( ( ( brings ( two ( little boys ) ) ) ( with him ) ) ( to ( ( buy something ) ( from ( a woman ) ) ) ) ) . ) )'),\n",
       " ('( ( ( A woman ) ( wearing ( a ( red coat ) ) ) ) ( ( ( stands ( on ( ( a ( wood floor ) ) ( in ( front ( of ( several paintings ) ) ) ) ) ) ) ( while ( ( two girls ) ( sit ( on ( ( the floor ) ( at ( her feet ) ) ) ) ) ) ) ) . ) )',\n",
       "  '( Woman ( ( ( views paintings ) ( with ( ( two girls ) ( at ( her feet ) ) ) ) ) . ) )'),\n",
       " ('( ( The ( three ( young children ) ) ) ( ( ( played ( with ( some ( toilet paper ) ) ) ) ( in ( the grass ) ) ) . ) )',\n",
       "  '( ( The ( three ( young children ) ) ) ( ( are outside ) . ) )'),\n",
       " ('( ( a man ) ( ( takes ( ( a picture ) ( of ( ( another ( two men ) ) ( in ( a crowd ) ) ) ) ) ) . ) )',\n",
       "  '( ( a man ) ( ( takes ( ( a picture ) ( of ( ( two men ) ( in ( a crowd ) ) ) ) ) ) . ) )'),\n",
       " ('( ( ( ( ( ( There ( are ( ( two boats ) ( full ( of ( people ( in ( a river ) ) ) ) ) ) ) ) , ) ( one ( is stopped ) ) ) and ) ( ( the other ) ( is moving ) ) ) . )',\n",
       "  '( There ( ( are ( ( two boats ) ( on ( a river ) ) ) ) . ) )'),\n",
       " ('( ( ( ( ( ( ( A woman ) and ) ( two men ) ) , ) ( that ( are ( dressed professionally ) ) ) ) , ) ( ( are ( having ( a discussion ) ) ) . ) )',\n",
       "  '( ( ( ( A woman ) and ) ( two men ) ) ( ( are ( talking ( amongst themselves ) ) ) . ) )'),\n",
       " (\"( ( two male ) ( ( 's ( in ( ( ( a ( karate class ) ) , ) ( one ( who ( is ( in ( ( the air ) ( with ( ( ( a ( ( ( blue and ) orange ) belt ) ) and ) ( one ( who ( is ( about ( to ( get ( kicked ( in ( the face ) ) ) ) ) ) ) ) ) ) ) ) ) ) ) ) ) ) ) . ) )\",\n",
       "  '( ( two people ) ( do karate ) )')]"
      ]
     },
     "execution_count": 13,
     "metadata": {},
     "output_type": "execute_result"
    }
   ],
   "source": [
    "test_binary_entailment_same_example = get_binary_pairs(test_entailment_with_same_numericals)\n",
    "train_binary_entailment_same_example = get_binary_pairs(train_entailment_with_same_numericals)\n",
    "dev_binary_entailment_same_example = get_binary_pairs(dev_entailment_with_same_numericals)\n",
    "\n",
    "test_binary_entailment_same_example"
   ]
  },
  {
   "cell_type": "code",
   "execution_count": 14,
   "metadata": {},
   "outputs": [
    {
     "data": {
      "text/plain": [
       "'two'"
      ]
     },
     "execution_count": 14,
     "metadata": {},
     "output_type": "execute_result"
    }
   ],
   "source": [
    "numerical_word_in_sentence(test_binary_entailment_same_example[0][0])[0]"
   ]
  },
  {
   "cell_type": "code",
   "execution_count": 15,
   "metadata": {},
   "outputs": [],
   "source": [
    "def generate_same_to_same_plural(binary_list, label):\n",
    "    res = []\n",
    "    for i in range(len(binary_list)):\n",
    "        new_bin_pairs = utils.same_to_same_plural_number(\n",
    "            binary_list[i],\n",
    "            numerical_word_in_sentence(binary_list[i][0])[0]\n",
    "        )\n",
    "        for pair in new_bin_pairs:\n",
    "            rem_bin_pair = utils.remove_parenthesis(pair)\n",
    "            tmp_dict = dict()\n",
    "            tmp_dict['gold_label'] = label\n",
    "            tmp_dict['sentence1'] = rem_bin_pair[0]\n",
    "            tmp_dict['sentence2'] = rem_bin_pair[1]\n",
    "            tmp_dict['sentence1_binary_parse'] = pair[0]\n",
    "            tmp_dict['sentence2_binary_parse'] = pair[1]\n",
    "            res.append(tmp_dict)\n",
    "    return res"
   ]
  },
  {
   "cell_type": "code",
   "execution_count": 16,
   "metadata": {},
   "outputs": [],
   "source": [
    "test_entailment_same_to_same_plural = generate_same_to_same_plural(test_binary_entailment_same_example, 'entailment')\n",
    "train_entailment_same_to_same_plural = generate_same_to_same_plural(train_binary_entailment_same_example, 'entailment')\n",
    "dev_entailment_same_to_same_plural = generate_same_to_same_plural(dev_binary_entailment_same_example, 'entailment')\n"
   ]
  },
  {
   "cell_type": "code",
   "execution_count": 17,
   "metadata": {},
   "outputs": [
    {
     "data": {
      "text/plain": [
       "896"
      ]
     },
     "execution_count": 17,
     "metadata": {},
     "output_type": "execute_result"
    }
   ],
   "source": [
    "len(test_entailment_same_to_same_plural)"
   ]
  },
  {
   "cell_type": "code",
   "execution_count": 18,
   "metadata": {},
   "outputs": [
    {
     "data": {
      "text/plain": [
       "48480"
      ]
     },
     "execution_count": 18,
     "metadata": {},
     "output_type": "execute_result"
    }
   ],
   "source": [
    "len(train_entailment_same_to_same_plural)"
   ]
  },
  {
   "cell_type": "code",
   "execution_count": 19,
   "metadata": {},
   "outputs": [
    {
     "data": {
      "text/plain": [
       "1056"
      ]
     },
     "execution_count": 19,
     "metadata": {},
     "output_type": "execute_result"
    }
   ],
   "source": [
    "len(dev_entailment_same_to_same_plural)"
   ]
  },
  {
   "cell_type": "code",
   "execution_count": 20,
   "metadata": {},
   "outputs": [],
   "source": [
    "import json\n",
    "with open('test_entailment_same_to_same_plural.json', 'w') as outfile:\n",
    "    json.dump(test_entailment_same_to_same_plural, outfile)\n",
    "\n",
    "with open('train_entailment_same_to_same_plural.json', 'w') as outfile:\n",
    "    json.dump(train_entailment_same_to_same_plural, outfile)\n",
    "    \n",
    "with open('dev_entailment_same_to_same_plural.json', 'w') as outfile:\n",
    "    json.dump(dev_entailment_same_to_same_plural, outfile)"
   ]
  }
 ],
 "metadata": {
  "kernelspec": {
   "display_name": "Python 3",
   "language": "python",
   "name": "python3"
  },
  "language_info": {
   "codemirror_mode": {
    "name": "ipython",
    "version": 3
   },
   "file_extension": ".py",
   "mimetype": "text/x-python",
   "name": "python",
   "nbconvert_exporter": "python",
   "pygments_lexer": "ipython3",
   "version": "3.6.8"
  }
 },
 "nbformat": 4,
 "nbformat_minor": 2
}
