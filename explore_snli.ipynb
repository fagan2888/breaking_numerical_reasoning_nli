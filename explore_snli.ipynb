{
 "cells": [
  {
   "cell_type": "code",
   "execution_count": null,
   "metadata": {},
   "outputs": [],
   "source": [
    "import src.utilities.utils as utils \n",
    "test_data = utils.read_jsonl('data/snli_1.0/snli_1.0_test.jsonl')"
   ]
  },
  {
   "cell_type": "code",
   "execution_count": null,
   "metadata": {},
   "outputs": [],
   "source": [
    "def convert_list(lst):\n",
    "    new_lst = []\n",
    "    for each in lst:\n",
    "        new_lst.append(utils.convert_dict[each])\n",
    "    return new_lst\n",
    "\n",
    "def exists_intersection(found_first_list, found_second_list):\n",
    "    lst1 = convert_list(found_first_list)\n",
    "    lst2 = convert_list(found_second_list)\n",
    "    return len([value for value in lst1 if value in lst2]) > 0\n",
    "\n",
    "words_for_numbers = ['a', 'an', 'one', 'two', 'three', 'four', 'five', 'six', 'seven', 'eight', 'nine', 'ten','1','2','3','4','5','6','7',\n",
    "                    '8','9','10']\n",
    "uncertain = ['group', 'some', 'most']"
   ]
  },
  {
   "cell_type": "code",
   "execution_count": null,
   "metadata": {},
   "outputs": [],
   "source": [
    "# FIND potential matching number without addition from entailment pairs\n",
    "\n",
    "count = 0\n",
    "for each in test_data:\n",
    "    found_first, found_second = False, False\n",
    "    found_first_list, found_second_list = [], []\n",
    "    for num_word in words_for_numbers:\n",
    "        if num_word in each['sentence1'].lower().split():\n",
    "            found_first = True\n",
    "            found_first_list.append(num_word)\n",
    "        if num_word in each['sentence2'].lower().split(): \n",
    "            found_second = True\n",
    "            found_second_list.append(num_word)\n",
    "    for num_word in uncertain:\n",
    "        if num_word in each['sentence1'].lower().split():\n",
    "            found_first = False\n",
    "        if num_word in each['sentence2'].lower().split(): \n",
    "            found_second = False\n",
    "            \n",
    "    if found_first and found_second and exists_intersection(found_first_list, found_second_list) and 'entailment' == each['gold_label']:\n",
    "        print(found_first_list, found_second_list, each['gold_label'])\n",
    "        count += 1\n",
    "        print(each['sentence1'])\n",
    "        print(each['sentence2'])\n",
    "        print(count) "
   ]
  },
  {
   "cell_type": "code",
   "execution_count": null,
   "metadata": {},
   "outputs": [],
   "source": [
    "# FIND potential addition from entailment pairs\n",
    "\n",
    "count = 0\n",
    "for each in test_data:\n",
    "    found_first, found_second = False, False\n",
    "    found_first_list, found_second_list = [], []\n",
    "    for num_word in words_for_numbers:\n",
    "        if num_word in each['sentence1'].lower().split():\n",
    "            found_first = True\n",
    "            found_first_list.append(num_word)\n",
    "        if num_word in each['sentence2'].lower().split(): \n",
    "            found_second = True\n",
    "            found_second_list.append(num_word)\n",
    "    for num_word in uncertain:\n",
    "        if num_word in each['sentence1'].lower().split():\n",
    "            found_first = False\n",
    "        if num_word in each['sentence2'].lower().split(): \n",
    "            found_second = False\n",
    "            \n",
    "    if found_first and found_second and not exists_intersection(found_first_list, found_second_list) and 'entailment' == each['gold_label']:\n",
    "        print(found_first_list, found_second_list, each['gold_label'])\n",
    "        count += 1\n",
    "        print(each['sentence1'])\n",
    "        print(each['sentence2'])\n",
    "        print(count) "
   ]
  }
 ],
 "metadata": {
  "kernelspec": {
   "display_name": "Python 3",
   "language": "python",
   "name": "python3"
  },
  "language_info": {
   "codemirror_mode": {
    "name": "ipython",
    "version": 3
   },
   "file_extension": ".py",
   "mimetype": "text/x-python",
   "name": "python",
   "nbconvert_exporter": "python",
   "pygments_lexer": "ipython3",
   "version": "3.7.1"
  }
 },
 "nbformat": 4,
 "nbformat_minor": 2
}
