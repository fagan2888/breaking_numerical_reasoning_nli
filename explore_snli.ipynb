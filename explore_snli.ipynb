{
 "cells": [
  {
   "cell_type": "markdown",
   "metadata": {},
   "source": [
    "The purpose is to find entailment pairs that involve number reasoning (especially addition), but also classify them into all different kinds of cases we need to be careful about. \n",
    "\n",
    "When we change numbers in the discovered pairs, we know how to change the labels. For example, if we change the entailment pair with matching number so that the hypothesis contains more number, then this pair should not be an entailment anymore. In which cases should it be neutral, and in which cases should it be contradiction? Are there any cases when it remains entailment even after changing the numbers?"
   ]
  },
  {
   "cell_type": "code",
   "execution_count": null,
   "metadata": {},
   "outputs": [],
   "source": [
    "import src.utilities.utils as utils \n",
    "test_data = utils.read_jsonl('data/snli_1.0/snli_1.0_test.jsonl')"
   ]
  },
  {
   "cell_type": "code",
   "execution_count": null,
   "metadata": {},
   "outputs": [],
   "source": [
    "def convert_list(lst, convert_dict):\n",
    "    # A function that change number words in a given list (lst) into digits. \n",
    "    # convert_dict contains mapping to change numeric words (\"one\", \"1\") into integer (1)\n",
    "    \n",
    "    # TODO: utils.convert_dict only contains numbers between 1-10. \n",
    "    #       if using more number words, than you must use a new dictionary that has all of those words.. \n",
    "    # TODO: Do the explorarion with more number words. \n",
    "    # TODO: What number words are included in SNLI training set?\n",
    "    new_lst = []\n",
    "    for each in lst:\n",
    "        new_lst.append(convert_dict[each])\n",
    "    return new_lst\n",
    "\n",
    "def exists_intersection(found_first_list, found_second_list):\n",
    "    # Compare the list of number words found from each sentence, return whether there's an intersection.\n",
    "    # In order to match different words that refer to the same number (e.g. \"one\" and \"1\"),\n",
    "    #    we first change them to digits using utils.convert_dict inside convert_list\n",
    "    #    and then get intersection between lst1 and lst2\n",
    "    lst1 = convert_list(found_first_list, utils.convert_dict)\n",
    "    lst2 = convert_list(found_second_list, utils.convert_dict)\n",
    "    return len([value for value in lst1 if value in lst2]) > 0\n",
    "\n",
    "# TODO: change the following lists and add some more for uncertain quantifiers and other conditions\n",
    "words_for_numbers = ['a', 'an', 'one', 'two', 'three', 'four', 'five', 'six', 'seven', 'eight', 'nine', 'ten','1','2','3','4','5','6','7',\n",
    "                    '8','9','10']\n",
    "uncertain = ['group', 'some', 'most']"
   ]
  },
  {
   "cell_type": "code",
   "execution_count": null,
   "metadata": {},
   "outputs": [],
   "source": [
    "set([1,2,3])"
   ]
  },
  {
   "cell_type": "code",
   "execution_count": null,
   "metadata": {
    "scrolled": false
   },
   "outputs": [],
   "source": [
    "def get_number_words_from_sentences(each):\n",
    "    # search number words from two sentences from the given pair (each)\n",
    "    found_first, found_second = False, False\n",
    "    found_first_list, found_second_list = [], []\n",
    "    sentence1_words = set(each['sentence1'].lower().split())\n",
    "    sentence2_words = set(each['sentence2'].lower().split())\n",
    "    for num_word in words_for_numbers:\n",
    "        if num_word in sentence1_words:\n",
    "            found_first = True\n",
    "            found_first_list.append(num_word)\n",
    "        if num_word in sentence2_words: \n",
    "            found_second = True\n",
    "            found_second_list.append(num_word)\n",
    "    # Exclude all pairs that contain uncertain words (TODO: Is this valid?)\n",
    "    for num_word in uncertain:\n",
    "        if num_word in sentence1_words:\n",
    "            found_first = False\n",
    "        if num_word in sentence2_words: \n",
    "            found_second = False\n",
    "    return found_first, found_second, found_first_list, found_second_list"
   ]
  },
  {
   "cell_type": "code",
   "execution_count": null,
   "metadata": {},
   "outputs": [],
   "source": [
    "# FIND potential matching number without addition from entailment pairs\n",
    "\n",
    "count = 0\n",
    "for each in test_data:\n",
    "    found_first, found_second, found_first_list, found_second_list = get_number_words_from_sentences(each)\n",
    "    \n",
    "    # If two sentences contain number words that refer to the same number, print that pair.\n",
    "    # TODO: refine this rule to get more data.\n",
    "    if found_first and found_second and exists_intersection(found_first_list, found_second_list) and 'entailment' == each['gold_label']:\n",
    "        print(found_first_list, found_second_list, each['gold_label'])\n",
    "        count += 1\n",
    "        print(each['sentence1'])\n",
    "        print(each['sentence2'])\n",
    "        print(count) "
   ]
  },
  {
   "cell_type": "code",
   "execution_count": null,
   "metadata": {
    "scrolled": false
   },
   "outputs": [],
   "source": [
    "# FIND potential addition from entailment pairs\n",
    "\n",
    "count = 0\n",
    "for each in test_data:\n",
    "    found_first, found_second, found_first_list, found_second_list = get_number_words_from_sentences(each)\n",
    "            \n",
    "    # If two sentences contain number words that refer to different numbers, print that pair.\n",
    "    # TODO: refine this rule. This is excluding pairs that should be included.\n",
    "    #       For example, there could be addition pairs with some common number word. \n",
    "    if found_first and found_second and not exists_intersection(found_first_list, found_second_list) and 'entailment' == each['gold_label']:\n",
    "        print(found_first_list, found_second_list, each['gold_label'])\n",
    "        count += 1\n",
    "        print(each['sentence1'])\n",
    "        print(each['sentence2'])\n",
    "        print(count) "
   ]
  },
  {
   "cell_type": "code",
   "execution_count": null,
   "metadata": {},
   "outputs": [],
   "source": []
  }
 ],
 "metadata": {
  "kernelspec": {
   "display_name": "Python 3",
   "language": "python",
   "name": "python3"
  },
  "language_info": {
   "codemirror_mode": {
    "name": "ipython",
    "version": 3
   },
   "file_extension": ".py",
   "mimetype": "text/x-python",
   "name": "python",
   "nbconvert_exporter": "python",
   "pygments_lexer": "ipython3",
   "version": "3.7.1"
  }
 },
 "nbformat": 4,
 "nbformat_minor": 2
}
