{
 "cells": [
  {
   "cell_type": "code",
   "execution_count": 2,
   "metadata": {},
   "outputs": [],
   "source": [
    "from num2words import num2words"
   ]
  },
  {
   "cell_type": "code",
   "execution_count": 5,
   "metadata": {},
   "outputs": [
    {
     "data": {
      "text/plain": [
       "'forty-two trillion, two hundred and thirty-four billion, nine hundred and twenty-three million, four hundred and thirty-four thousand, two hundred and thirty-one'"
      ]
     },
     "execution_count": 5,
     "metadata": {},
     "output_type": "execute_result"
    }
   ],
   "source": [
    "num2words(42234923434231)"
   ]
  },
  {
   "cell_type": "code",
   "execution_count": 6,
   "metadata": {},
   "outputs": [],
   "source": [
    "import numpy as np"
   ]
  },
  {
   "cell_type": "code",
   "execution_count": 143,
   "metadata": {},
   "outputs": [],
   "source": [
    "x1 = np.random.randint(0, 2**31-1, 500000)\n",
    "x2 = np.random.randint(0, 2**31-1, 500000)\n",
    "x2[-100000:] = x1[-100000:]\n",
    "y = (x1 >= x2) * 1 + (x1 > x2) * 1 # <: 0, =: 1, >: 2\n",
    "pairs = list(zip(*[x1,x2]))"
   ]
  },
  {
   "cell_type": "code",
   "execution_count": null,
   "metadata": {},
   "outputs": [],
   "source": [
    "word_pairs = [(num2words(p[0]).replace(\"-\", \" \").split(), num2words(p[1]).replace(\"-\", \" \").split()) for p in pairs]"
   ]
  },
  {
   "cell_type": "code",
   "execution_count": 146,
   "metadata": {},
   "outputs": [],
   "source": [
    "temp = list(zip(*word_pairs))\n",
    "data = list(zip(*[temp[0], temp[1], y]))"
   ]
  },
  {
   "cell_type": "code",
   "execution_count": 148,
   "metadata": {},
   "outputs": [],
   "source": [
    "import random\n",
    "random.shuffle(data)"
   ]
  },
  {
   "cell_type": "code",
   "execution_count": 149,
   "metadata": {},
   "outputs": [],
   "source": [
    "train, val, test = data[:300000], data[300000:400000], data[400000:]"
   ]
  },
  {
   "cell_type": "code",
   "execution_count": 150,
   "metadata": {},
   "outputs": [],
   "source": [
    "train, val, test = list(zip(*train)), list(zip(*val)), list(zip(*test))"
   ]
  },
  {
   "cell_type": "code",
   "execution_count": 151,
   "metadata": {},
   "outputs": [],
   "source": [
    "import pickle as pkl\n",
    "pkl.dump(train, open(\"/scratch/yn811/number_compare_train.pkl\", \"wb\"))\n",
    "pkl.dump(val, open(\"/scratch/yn811/number_compare_val.pkl\", \"wb\"))\n",
    "pkl.dump(test, open(\"/scratch/yn811/number_compare_test.pkl\", \"wb\"))"
   ]
  },
  {
   "cell_type": "code",
   "execution_count": 195,
   "metadata": {},
   "outputs": [],
   "source": [
    "x1 = np.arange(0, 2**15)\n",
    "x2 = np.random.randint(0, 2**15, 2**15)\n",
    "x2[-10000:] = x1[-10000:]\n",
    "x2[:10000] = x1[:10000] + np.random.randint(-10, 10, 10000)\n",
    "y = (x1 >= x2) * 1 + (x1 > x2) * 1 # <: 0, =: 1, >: 2\n",
    "pairs = list(zip(*[x1,x2,y]))"
   ]
  },
  {
   "cell_type": "code",
   "execution_count": 199,
   "metadata": {},
   "outputs": [],
   "source": [
    "word_pairs = [(num2words(p[0]).replace(\"-\", \" \").split(), num2words(p[1]).replace(\"-\", \" \").split(), p[2]) for p in pairs]"
   ]
  },
  {
   "cell_type": "code",
   "execution_count": 200,
   "metadata": {},
   "outputs": [],
   "source": [
    "word_pairs = list(zip(*word_pairs))"
   ]
  },
  {
   "cell_type": "code",
   "execution_count": 201,
   "metadata": {},
   "outputs": [],
   "source": [
    "pkl.dump(word_pairs, open(\"/scratch/yn811/number_compare_test_designed.pkl\", \"wb\"))"
   ]
  }
 ],
 "metadata": {
  "kernelspec": {
   "display_name": "Python 3",
   "language": "python",
   "name": "python3"
  },
  "language_info": {
   "codemirror_mode": {
    "name": "ipython",
    "version": 3
   },
   "file_extension": ".py",
   "mimetype": "text/x-python",
   "name": "python",
   "nbconvert_exporter": "python",
   "pygments_lexer": "ipython3",
   "version": "3.6.3"
  }
 },
 "nbformat": 4,
 "nbformat_minor": 2
}
